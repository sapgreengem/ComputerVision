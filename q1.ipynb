{
  "nbformat": 4,
  "nbformat_minor": 0,
  "metadata": {
    "colab": {
      "name": "q1.ipynb",
      "provenance": [],
      "authorship_tag": "ABX9TyMiSayTJ4j4YpA2k2PhKVsm",
      "include_colab_link": true
    },
    "kernelspec": {
      "name": "python3",
      "display_name": "Python 3"
    },
    "language_info": {
      "name": "python"
    }
  },
  "cells": [
    {
      "cell_type": "markdown",
      "metadata": {
        "id": "view-in-github",
        "colab_type": "text"
      },
      "source": [
        "<a href=\"https://colab.research.google.com/github/sapgreengem/ComputerVision/blob/main/q1.ipynb\" target=\"_parent\"><img src=\"https://colab.research.google.com/assets/colab-badge.svg\" alt=\"Open In Colab\"/></a>"
      ]
    },
    {
      "cell_type": "code",
      "execution_count": null,
      "metadata": {
        "id": "J6DkR7N4d0gb"
      },
      "outputs": [],
      "source": [
        "A = [5,9,3,7,6,2,10,1,4,8]\n",
        "def bubblesort(arr):\n",
        "  # Looping from size of array from last index[-1] to index [0]\n",
        "  for n in range(len(arr)-1, 0, -1):\n",
        "    for i in range(n):\n",
        "      if arr[i] > arr[i + 1]:\n",
        "        # swapping data if the element is less than next element in the array\n",
        "        arr[i], arr[i + 1] = arr[i + 1], arr[i]\n",
        "  \n",
        "print(\"Unsorted list is,\") \n",
        "print( A)\n",
        "bubblesort(A)\n",
        "print(\"Sorted Array is, \")\n",
        "print(A)"
      ]
    },
    {
      "cell_type": "code",
      "source": [
        "A = [5,1,3,7,6,2,10,9,4,8]\n",
        "def bubblesort(arr):\n",
        "  # Looping from size of array from last index[-1] to index [0]\n",
        "  for n in range(len(arr)-1, 0, -1):\n",
        "    for i in range(n):\n",
        "      if arr[i] > arr[i + 1]:\n",
        "        print(f'n={n}  i={i} [{arr[i+1]},{arr[i]}]')\n",
        "        # swapping data if the element is less than next element in the array\n",
        "        arr[i], arr[i + 1] = arr[i + 1], arr[i]\n",
        "      else:\n",
        "        print(f'n={n}  i={i} [{arr[i]},{arr[i + 1]}]')\n",
        "\n",
        "#print(\"Unsorted list is,\") \n",
        "#print( A)\n",
        "bubblesort(A)\n",
        "print(\"Sorted Array is, \")\n",
        "print(A)"
      ],
      "metadata": {
        "id": "P89HrpL3rxWf"
      },
      "execution_count": null,
      "outputs": []
    },
    {
      "cell_type": "code",
      "source": [
        "def quick_sort(lst):\n",
        "    if lst == []:   return []\n",
        "    pivot = lst[0]\n",
        "    left = [x for x in lst[1:] if x < pivot]\n",
        "    right = [x for x in lst[1:] if x > pivot]\n",
        "    print(lst, pivot, \"is pivot\", left, \"and\", right, \"should be sorted\")\n",
        "    new_list = quick_sort(left) + [pivot] + quick_sort(right)\n",
        "    print(\"NEW\", new_list)\n",
        "    return new_list\n",
        "\n",
        "quick_sort([5,9,3,7,6,2,10,1,4,8])"
      ],
      "metadata": {
        "id": "Sv5VJ22i0Yuc"
      },
      "execution_count": null,
      "outputs": []
    }
  ]
}