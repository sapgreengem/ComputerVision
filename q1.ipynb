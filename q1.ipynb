{
  "nbformat": 4,
  "nbformat_minor": 0,
  "metadata": {
    "colab": {
      "name": "q1.ipynb",
      "provenance": [],
      "authorship_tag": "ABX9TyORw3fJKQbndSjkjtq0MaLk",
      "include_colab_link": true
    },
    "kernelspec": {
      "name": "python3",
      "display_name": "Python 3"
    },
    "language_info": {
      "name": "python"
    }
  },
  "cells": [
    {
      "cell_type": "markdown",
      "metadata": {
        "id": "view-in-github",
        "colab_type": "text"
      },
      "source": [
        "<a href=\"https://colab.research.google.com/github/sapgreengem/ComputerVision/blob/main/q1.ipynb\" target=\"_parent\"><img src=\"https://colab.research.google.com/assets/colab-badge.svg\" alt=\"Open In Colab\"/></a>"
      ]
    },
    {
      "cell_type": "code",
      "source": [
        "############ BUBBLE SORT #####################\n",
        "\n",
        "A = [5,1,3,7,6,2,10,9,4,8]\n",
        "def bubblesort(arr):\n",
        "  # Looping from size of array from last index[-1] to index [0]\n",
        "  for n in range(len(arr)-1, 0, -1):\n",
        "    for i in range(n):\n",
        "      if arr[i] > arr[i + 1]:\n",
        "        print(f'n={n}  i={i} [{arr[i+1]},{arr[i]}]')\n",
        "        # swapping data if the element is less than next element in the array\n",
        "        arr[i], arr[i + 1] = arr[i + 1], arr[i]\n",
        "      else:\n",
        "        print(f'n={n}  i={i} [{arr[i]},{arr[i + 1]}]')\n",
        "\n",
        "#print(\"Unsorted list is,\") \n",
        "#print( A)\n",
        "bubblesort(A)\n",
        "print(\"Sorted Array is, \")\n",
        "print(A)"
      ],
      "metadata": {
        "colab": {
          "base_uri": "https://localhost:8080/"
        },
        "id": "P89HrpL3rxWf",
        "outputId": "68e61e32-dd5e-4ee4-e750-9725ad4f196e"
      },
      "execution_count": 47,
      "outputs": [
        {
          "output_type": "stream",
          "name": "stdout",
          "text": [
            "n=9  i=0 [1,5]\n",
            "n=9  i=1 [3,5]\n",
            "n=9  i=2 [5,7]\n",
            "n=9  i=3 [6,7]\n",
            "n=9  i=4 [2,7]\n",
            "n=9  i=5 [7,10]\n",
            "n=9  i=6 [9,10]\n",
            "n=9  i=7 [4,10]\n",
            "n=9  i=8 [8,10]\n",
            "n=8  i=0 [1,3]\n",
            "n=8  i=1 [3,5]\n",
            "n=8  i=2 [5,6]\n",
            "n=8  i=3 [2,6]\n",
            "n=8  i=4 [6,7]\n",
            "n=8  i=5 [7,9]\n",
            "n=8  i=6 [4,9]\n",
            "n=8  i=7 [8,9]\n",
            "n=7  i=0 [1,3]\n",
            "n=7  i=1 [3,5]\n",
            "n=7  i=2 [2,5]\n",
            "n=7  i=3 [5,6]\n",
            "n=7  i=4 [6,7]\n",
            "n=7  i=5 [4,7]\n",
            "n=7  i=6 [7,8]\n",
            "n=6  i=0 [1,3]\n",
            "n=6  i=1 [2,3]\n",
            "n=6  i=2 [3,5]\n",
            "n=6  i=3 [5,6]\n",
            "n=6  i=4 [4,6]\n",
            "n=6  i=5 [6,7]\n",
            "n=5  i=0 [1,2]\n",
            "n=5  i=1 [2,3]\n",
            "n=5  i=2 [3,5]\n",
            "n=5  i=3 [4,5]\n",
            "n=5  i=4 [5,6]\n",
            "n=4  i=0 [1,2]\n",
            "n=4  i=1 [2,3]\n",
            "n=4  i=2 [3,4]\n",
            "n=4  i=3 [4,5]\n",
            "n=3  i=0 [1,2]\n",
            "n=3  i=1 [2,3]\n",
            "n=3  i=2 [3,4]\n",
            "n=2  i=0 [1,2]\n",
            "n=2  i=1 [2,3]\n",
            "n=1  i=0 [1,2]\n",
            "Sorted Array is, \n",
            "[1, 2, 3, 4, 5, 6, 7, 8, 9, 10]\n"
          ]
        }
      ]
    },
    {
      "cell_type": "code",
      "source": [
        "############ QUICK SORT #####################\n",
        "def quick_sort(lst):\n",
        "    if lst == []:   return []\n",
        "    pivot = lst[0]\n",
        "    left = [x for x in lst[1:] if x < pivot]\n",
        "    right = [x for x in lst[1:] if x > pivot]\n",
        "    print(lst, pivot, \"is pivot\", left, \"and\", right, \"should be sorted\")\n",
        "    new_list = quick_sort(left) + [pivot] + quick_sort(right)\n",
        "    print(\"NEW\", new_list)\n",
        "    return new_list\n",
        "\n",
        "quick_sort([5,9,3,7,6,2,10,1,4,8])"
      ],
      "metadata": {
        "colab": {
          "base_uri": "https://localhost:8080/"
        },
        "id": "Sv5VJ22i0Yuc",
        "outputId": "ca8f2dcb-9905-4cf7-c63f-ecde797b30f9"
      },
      "execution_count": 48,
      "outputs": [
        {
          "output_type": "stream",
          "name": "stdout",
          "text": [
            "[5, 9, 3, 7, 6, 2, 10, 1, 4, 8] 5 is pivot [3, 2, 1, 4] and [9, 7, 6, 10, 8] should be sorted\n",
            "[3, 2, 1, 4] 3 is pivot [2, 1] and [4] should be sorted\n",
            "[2, 1] 2 is pivot [1] and [] should be sorted\n",
            "[1] 1 is pivot [] and [] should be sorted\n",
            "NEW [1]\n",
            "NEW [1, 2]\n",
            "[4] 4 is pivot [] and [] should be sorted\n",
            "NEW [4]\n",
            "NEW [1, 2, 3, 4]\n",
            "[9, 7, 6, 10, 8] 9 is pivot [7, 6, 8] and [10] should be sorted\n",
            "[7, 6, 8] 7 is pivot [6] and [8] should be sorted\n",
            "[6] 6 is pivot [] and [] should be sorted\n",
            "NEW [6]\n",
            "[8] 8 is pivot [] and [] should be sorted\n",
            "NEW [8]\n",
            "NEW [6, 7, 8]\n",
            "[10] 10 is pivot [] and [] should be sorted\n",
            "NEW [10]\n",
            "NEW [6, 7, 8, 9, 10]\n",
            "NEW [1, 2, 3, 4, 5, 6, 7, 8, 9, 10]\n"
          ]
        },
        {
          "output_type": "execute_result",
          "data": {
            "text/plain": [
              "[1, 2, 3, 4, 5, 6, 7, 8, 9, 10]"
            ]
          },
          "metadata": {},
          "execution_count": 48
        }
      ]
    }
  ]
}